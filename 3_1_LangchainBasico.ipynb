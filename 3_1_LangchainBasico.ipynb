{
 "cells": [
  {
   "cell_type": "markdown",
   "metadata": {},
   "source": [
    "# Setpup"
   ]
  },
  {
   "cell_type": "code",
   "execution_count": 1,
   "metadata": {
    "editable": true,
    "id": "2ytPLsuJfx1d",
    "slideshow": {
     "slide_type": ""
    },
    "tags": []
   },
   "outputs": [],
   "source": [
    "from langchain_openai import OpenAI, ChatOpenAI\n",
    "import os\n",
    "import yaml"
   ]
  },
  {
   "cell_type": "code",
   "execution_count": 2,
   "metadata": {},
   "outputs": [],
   "source": [
    "with open('config.yaml', 'r') as config_file:\n",
    "    config = yaml.safe_load(config_file)\n",
    "    \n",
    "os.environ['OPENAI_API_KEY'] = config['OPENAI_API_KEY']"
   ]
  },
  {
   "cell_type": "markdown",
   "metadata": {
    "id": "jtCcyjx0y3xs"
   },
   "source": [
    "# Completion"
   ]
  },
  {
   "cell_type": "code",
   "execution_count": 3,
   "metadata": {
    "colab": {
     "base_uri": "https://localhost:8080/"
    },
    "id": "kFb-LFPTdqp5",
    "outputId": "b1d82bde-6b08-48ed-a664-0cf1774f7356"
   },
   "outputs": [
    {
     "name": "stdout",
     "output_type": "stream",
     "text": [
      "\n",
      "\n",
      "Carl Sagan (1934-1996) foi um renomado cientista, astrônomo, astrofísico, cosmólogo e divulgador científico americano. Ele nasceu em Nova York e desde jovem demonstrou grande interesse pela ciência, especialmente pela astronomia.\n",
      "\n",
      "Durante sua carreira, Sagan fez importantes contribuições para a NASA (Agência Espacial Americana), incluindo seus estudos sobre a atmosfera de Vênus e as sondas espaciais enviadas às luas de Júpiter.\n",
      "\n",
      "Além disso, ele era um importante defensor da exploração espacial e do uso da razão científica para entender o universo. Sagan ficou conhecido por popularizar conceitos complexos da ciência através de livros como \"Cosmos\" e \"O Mundo Assombrado pelos Demônios\", além de séries de televisão como \"Cosmos: Uma Viagem Pessoal\".\n",
      "\n",
      "Suas contribuições no campo da comunicação científica lhe renderam vários prêmios e honrarias ao longo dos anos. Após sua morte em 1996, seu legado continua influenciando gerações futuras na busca pelo conhecimento científico.\n"
     ]
    }
   ],
   "source": [
    "openai = OpenAI(model_name='gpt-3.5-turbo-instruct')\n",
    "frequency_penalty=1\n",
    "presence_penalty = 1\n",
    "temperature =  1\n",
    "max_tokens=500\n",
    "n = 1\n",
    "seed = 123\n",
    "response = openai.invoke(input='Quem foi Carl Sagan?', temperature=temperature,\n",
    "                    frequency_penalty=frequency_penalty,presence_penalty=presence_penalty,\n",
    "                    max_tokens=max_tokens,n=n, seed=seed)\n",
    "print(response)"
   ]
  },
  {
   "cell_type": "markdown",
   "metadata": {
    "id": "YmLVQ3dgzKdm"
   },
   "source": [
    "# Chat"
   ]
  },
  {
   "cell_type": "code",
   "execution_count": 4,
   "metadata": {
    "colab": {
     "base_uri": "https://localhost:8080/"
    },
    "id": "AE1XHZmWxS4X",
    "outputId": "daf2f1de-2449-4794-84d1-c74fbc31f0bf"
   },
   "outputs": [
    {
     "name": "stdout",
     "output_type": "stream",
     "text": [
      "content='Carl Sagan foi um renomado astrônomo, astrofísico, cosmólogo, escritor e divulgador científico americano. Ele nasceu em 1934 e faleceu em 1996. Sagan é conhecido por seu trabalho em popularizar a ciência e por sua contribuição para a exploração espacial. Ele apresentou a série de televisão \"Cosmos: Uma Viagem Pessoal\" e escreveu diversos livros sobre astronomia e ciência, incluindo \"O Mundo Assombrado pelos Demônios\" e \"Contato\", que foi adaptado para um filme. Sagan também feve contribuições significativas para a pesquisa científica, incluindo estudos sobre a possibilidade de vida em outros planetas.' response_metadata={'token_usage': {'completion_tokens': 170, 'prompt_tokens': 35, 'total_tokens': 205}, 'model_name': 'gpt-3.5-turbo-0125', 'system_fingerprint': None, 'finish_reason': 'stop', 'logprobs': None} id='run-b5c724f8-cd07-4827-8913-ed1299fff38a-0' usage_metadata={'input_tokens': 35, 'output_tokens': 170, 'total_tokens': 205}\n"
     ]
    }
   ],
   "source": [
    "openai = ChatOpenAI(model_name='gpt-3.5-turbo')\n",
    "messages = [\n",
    "    {\"role\": \"system\", \"content\": \"Você é um assistente que fornece informações sobre figuras históricas.\"},\n",
    "    {\"role\": \"user\", \"content\": \"Quem foi Carl Sagan?\"}\n",
    "]\n",
    "response = openai.invoke(messages)\n",
    "print(response)"
   ]
  },
  {
   "cell_type": "code",
   "execution_count": 5,
   "metadata": {
    "colab": {
     "base_uri": "https://localhost:8080/"
    },
    "id": "MTBMLJXlyOZ_",
    "outputId": "313c0e4c-99ff-4a54-c91c-b98823c9e7e6"
   },
   "outputs": [
    {
     "name": "stdout",
     "output_type": "stream",
     "text": [
      "Carl Sagan foi um renomado astrônomo, astrofísico, cosmólogo, escritor e divulgador científico americano. Ele nasceu em 1934 e faleceu em 1996. Sagan é conhecido por seu trabalho em popularizar a ciência e por sua contribuição para a exploração espacial. Ele apresentou a série de televisão \"Cosmos: Uma Viagem Pessoal\" e escreveu diversos livros sobre astronomia e ciência, incluindo \"O Mundo Assombrado pelos Demônios\" e \"Contato\", que foi adaptado para um filme. Sagan também feve contribuições significativas para a pesquisa científica, incluindo estudos sobre a possibilidade de vida em outros planetas.\n"
     ]
    }
   ],
   "source": [
    "print(response.content)"
   ]
  },
  {
   "cell_type": "code",
   "execution_count": null,
   "metadata": {
    "editable": true,
    "slideshow": {
     "slide_type": ""
    },
    "tags": []
   },
   "outputs": [],
   "source": []
  }
 ],
 "metadata": {
  "colab": {
   "provenance": []
  },
  "kernelspec": {
   "display_name": "Python 3 (ipykernel)",
   "language": "python",
   "name": "python3"
  },
  "language_info": {
   "codemirror_mode": {
    "name": "ipython",
    "version": 3
   },
   "file_extension": ".py",
   "mimetype": "text/x-python",
   "name": "python",
   "nbconvert_exporter": "python",
   "pygments_lexer": "ipython3",
   "version": "3.12.4"
  }
 },
 "nbformat": 4,
 "nbformat_minor": 4
}
